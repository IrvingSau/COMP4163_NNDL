{
 "cells": [
  {
   "cell_type": "markdown",
   "metadata": {},
   "source": [
    "# Introduction to Keras\n",
    "Turing QIU/Yvonne ZHANG/Ryan WANG\n",
    "\n",
    "Last modified in 2019/09/25 - 22:38\n",
    "\n",
    "![keras_logo](keras.png)\n",
    "\n",
    "## Introduction\n",
    "Keras is a high-level neural networks API, written in Python and capable of running on top of *TensorFlow, CNTK, or Theano*. It was developed with a focus on enabling fast experimentation. Being able to go from idea to result with the least possible delay is key to doing good research.\n",
    "\n",
    "Use Keras if you need a deep learning library that:\n",
    "\n",
    "- Allows for easy and fast prototyping (through user friendliness, modularity, and extensibility).\n",
    "- Supports both convolutional networks and recurrent networks, as well as combinations of the two.\n",
    "- Runs seamlessly on CPU and GPU.\n",
    "\n",
    "Keras is compatible with: Python **2.7-3.6**.\n",
    "\n",
    "\n",
    "\n",
    "### Why this name, Keras?\n",
    "Keras (κέρας) means horn in Greek. It is a reference to a literary image from ancient Greek and Latin literature, first found in the Odyssey, where dream spirits (Oneiroi, singular Oneiros) are divided between those who deceive men with false visions, who arrive to Earth through a gate of ivory, and those who announce a future that will come to pass, who arrive through a gate of horn. It's a play on the words κέρας (horn) / κραίνω (fulfill), and ἐλέφας (ivory) / ἐλεφαίρομαι (deceive).\n",
    "\n",
    "Keras was initially developed as part of the research effort of project ONEIROS (Open-ended Neuro-Electronic Intelligent Robot Operating System).\n",
    "\n",
    "*\"Oneiroi are beyond our unravelling --who can be sure what tale they tell? Not all that men look for comes to pass. Two gates there are that give passage to fleeting Oneiroi; one is made of horn, one of ivory. The Oneiroi that pass through sawn ivory are deceitful, bearing a message that will not be fulfilled; those that come out through polished horn have truth behind them, to be accomplished for men who see them.\" Homer, Odyssey 19. 562 ff (Shewring translation).*\n",
    "\n",
    "\n",
    "## Installation of Keras\n",
    "In this course, we recommend to use the TensorFlow as the backend of Keras. If you are intersted in the installation of other backends, please find the resources in the following links.\n",
    "\n",
    "- [TensorFlow installation instructions](https://www.tensorflow.org/install/#tensorflow) \n",
    "- [Theano installation instructions](http://deeplearning.net/software/theano/install.html#install) \n",
    "- [CNTK installation instructions](https://docs.microsoft.com/en-us/cognitive-toolkit/setup-cntk-on-your-machine) \n",
    "\n",
    "### · Install Keras from Terminal (Mac OS):\n",
    "\n",
    "In this section, we will introduce the installation of Keras in Mac OS by terminal. First of all, we need to install the TensorFlow backend by using the pip instruction:\n",
    "\n",
    "`\n",
    "pip3 install tensorflow\n",
    "`\n",
    "\n",
    "Then, you can install Keras itself by pip:\n",
    "\n",
    "`\n",
    "pip3 install keras\n",
    "`\n",
    "\n",
    "If the installations of TensorFlow and Keras have been completed successfully, we could test it by `import` in python.\n",
    "\n",
    "![test_envs](test_envs.png)\n",
    "\n",
    "\n",
    "### · Install Keras from Anaconda (reconmmended):\n",
    "\n",
    "First, let's create a new environment in Anaconda (By following Rehan and Justices' material). \n",
    "\n",
    "![Create environment](create_envs.png)\n",
    "\n",
    "Then we need to activate the created environment. There are two ways for you to activate the environment: \n",
    "\n",
    "1) Activate the environment by the Anaconda Navigation like this:\n",
    "\n",
    "![Navigation_Activate](navig_activate.png)\n",
    "\n",
    "2) Or you want to activate the created environment by Anaconda prompt shown as followed: \n",
    "\n",
    "Step 1. List all the environments by instruction.\n",
    "\n",
    "`\n",
    "conda info --envs\n",
    "`\n",
    "\n",
    "Step 2. activate the target environment (the environment created by yourself).\n",
    "\n",
    "`\n",
    "activate xxx\n",
    "`\n",
    "\n",
    "By doing these two steps, you will get into the activated environment like followed, which is the same with the interface that activated through Anaconda Navigation.\n",
    "\n",
    "![activate environment](activate_envs.PNG)\n",
    "\n",
    "\n",
    "After the environment is activated, we could install the TensorFlow backend by using the pip instruction:\n",
    "\n",
    "`\n",
    "pip install tensorflow\n",
    "`\n",
    "\n",
    "Then, you can install Keras itself by pip:\n",
    "\n",
    "`\n",
    "pip install keras\n",
    "`\n",
    "\n",
    "Note: These installation steps assume that you are on Windows. If you are on a Linux or Mac environment, please contact Yvonne and Ziying Wang for help.\n",
    "\n",
    "### · Alternatively: install Keras from the GitHub source:\n",
    "\n",
    "First, clone Keras using `git`:\n",
    "\n",
    "```\n",
    "git clone https://github.com/keras-team/keras.git\n",
    "```\n",
    "\n",
    "Then, `cd` to the Keras folder and run the install command:\n",
    "\n",
    "```\n",
    "cd keras\n",
    "sudo python setup.py install\n",
    "```\n"
   ]
  },
  {
   "cell_type": "markdown",
   "metadata": {},
   "source": [
    "\n",
    "## Get Stated with Keras in MNIST\n",
    "\n",
    "Before we create our first neural network model in Keras, let us prepare our data first. As the \"Hello world\" program in deep lenarning, MNIST (Mixed National Institute of Standards and Technology database) dataset has been widely used by the students in DL and ML for their first model construction train and test. Fortunately, Keras provides a convenient module to load the MNIST dataset.\n",
    "\n",
    "### Introduction to MNIST dataset\n",
    "The MNIST database (Modified National Institute of Standards and Technology database) is a large database of handwritten digits that is commonly used for training various image processing systems. The database is also widely used for training and testing in the field of machine learning. The MNIST database contains 60,000 training images and 10,000 testing images.\n",
    "\n",
    "![mnist](mnist.png)"
   ]
  },
  {
   "cell_type": "markdown",
   "metadata": {},
   "source": [
    "### Data review\n",
    "\n",
    "1. Import modules"
   ]
  },
  {
   "cell_type": "code",
   "execution_count": 19,
   "metadata": {},
   "outputs": [],
   "source": [
    "import numpy as np\n",
    "import matplotlib.pyplot as plt\n",
    "import keras\n",
    "from keras.utils import np_utils"
   ]
  },
  {
   "cell_type": "markdown",
   "metadata": {},
   "source": [
    "2. Import MNIST modules，and you can load both train and test data set by load_data()."
   ]
  },
  {
   "cell_type": "code",
   "execution_count": 20,
   "metadata": {},
   "outputs": [
    {
     "name": "stdout",
     "output_type": "stream",
     "text": [
      "train data records = 60000\n",
      "test data records = 10000\n"
     ]
    }
   ],
   "source": [
    "from keras.datasets import mnist\n",
    "\n",
    "# load mnist dataset\n",
    "(x_train_image, y_train_label), (x_test_image, y_test_label) = mnist.load_data()\n",
    "\n",
    "print('train data records =', len(x_train_image))\n",
    "print('test data records =', len(x_test_image))"
   ]
  },
  {
   "cell_type": "markdown",
   "metadata": {},
   "source": [
    "3. Display the format of image and label in train dataset: x_train_image has 60,000 pieces of data with a size of 28*28. Y_train_label also contains 60,000 records with 1 dimension."
   ]
  },
  {
   "cell_type": "code",
   "execution_count": 21,
   "metadata": {},
   "outputs": [
    {
     "name": "stdout",
     "output_type": "stream",
     "text": [
      "x_train image format = (60000, 28, 28)\n",
      "y_train label format = 1\n"
     ]
    }
   ],
   "source": [
    "print('x_train image format =', x_train_image.shape)\n",
    "print('y_train label format =', len(y_train_label.shape))"
   ]
  },
  {
   "cell_type": "markdown",
   "metadata": {},
   "source": [
    "4.  Define a function to show the mnist data image\n",
    "\n",
    "Define a function named plot_image() to display the image in the dataset.**Don't worry about this code :)**"
   ]
  },
  {
   "cell_type": "code",
   "execution_count": 22,
   "metadata": {},
   "outputs": [],
   "source": [
    "def plot_image(image):\n",
    "    fig = plt.gcf()\n",
    "    fig.set_size_inches(2, 2)\n",
    "    plt.imshow(image, cmap='binary')\n",
    "    plt.show()"
   ]
  },
  {
   "cell_type": "markdown",
   "metadata": {},
   "source": [
    "Using plot_image() to shows the first image of the mnist dataset with the corresponding label."
   ]
  },
  {
   "cell_type": "code",
   "execution_count": 23,
   "metadata": {},
   "outputs": [
    {
     "data": {
      "image/png": "[encoded data removed]",
      "text/plain": [
       "<Figure size 144x144 with 1 Axes>"
      ]
     },
     "metadata": {
      "needs_background": "light"
     },
     "output_type": "display_data"
    },
    {
     "name": "stdout",
     "output_type": "stream",
     "text": [
      "Label:  5\n"
     ]
    }
   ],
   "source": [
    "plot_image(x_train_image[0])\n",
    "print('Label: ', y_train_label[0])"
   ]
  },
  {
   "cell_type": "markdown",
   "metadata": {},
   "source": [
    "### Data preprocessing\n",
    "\n",
    "After loading the data, we need to preprocess it. Our data are mainly digital image files and labels in dataset."
   ]
  },
  {
   "cell_type": "markdown",
   "metadata": {},
   "source": [
    "* **For image:**\n",
    "\n",
    "These digital image files are 28 x 28 black-and-white images. We need to convert them into one-dimensional vectors, i.e. 784-length data (28x28x1 = 784, 1 represents a channel, and 3 channels for color RGB).\n",
    "\n",
    "1). Viewing **Data Dimension**: We can see that the number of images of train dataset is 60,000, and the dimension is 28*28. The number of Labels is also 60,000."
   ]
  },
  {
   "cell_type": "code",
   "execution_count": 24,
   "metadata": {},
   "outputs": [
    {
     "name": "stdout",
     "output_type": "stream",
     "text": [
      "x_train_image: (60000, 28, 28)\n",
      "y_train_label: (60000,)\n"
     ]
    }
   ],
   "source": [
    "print('x_train_image:', x_train_image.shape)\n",
    "print('y_train_label:', y_train_label.shape)"
   ]
  },
  {
   "cell_type": "markdown",
   "metadata": {},
   "source": [
    "2). **Convert image data to one dimension**: change the dimension of dataset by using reshape(), and then change data attribute to float with astype(). Finally, we can see that its dimension has become 784."
   ]
  },
  {
   "cell_type": "code",
   "execution_count": 25,
   "metadata": {},
   "outputs": [
    {
     "name": "stdout",
     "output_type": "stream",
     "text": [
      "x_train: (60000, 784)\n",
      "x_test: (10000, 784)\n"
     ]
    }
   ],
   "source": [
    "x_Train = x_train_image.reshape(60000, 784).astype('float32')\n",
    "x_Test = x_test_image.reshape(10000, 784).astype('float32')\n",
    "\n",
    "print('x_train:', x_Train.shape)\n",
    "print('x_test:', x_Test.shape)"
   ]
  },
  {
   "cell_type": "markdown",
   "metadata": {},
   "source": [
    "3). Look at **the content of Picture** 0: Each number is between 0 and 255, representing the gray scale-depth of each pixel point."
   ]
  },
  {
   "cell_type": "code",
   "execution_count": 26,
   "metadata": {},
   "outputs": [
    {
     "name": "stdout",
     "output_type": "stream",
     "text": [
      "[[  0   0   0   0   0   0   0   0   0   0   0   0   0   0   0   0   0   0\n",
      "    0   0   0   0   0   0   0   0   0   0]\n",
      " [  0   0   0   0   0   0   0   0   0   0   0   0   0   0   0   0   0   0\n",
      "    0   0   0   0   0   0   0   0   0   0]\n",
      " [  0   0   0   0   0   0   0   0   0   0   0   0   0   0   0   0   0   0\n",
      "    0   0   0   0   0   0   0   0   0   0]\n",
      " [  0   0   0   0   0   0   0   0   0   0   0   0   0   0   0   0   0   0\n",
      "    0   0   0   0   0   0   0   0   0   0]\n",
      " [  0   0   0   0   0   0   0   0   0   0   0   0   0   0   0   0   0   0\n",
      "    0   0   0   0   0   0   0   0   0   0]\n",
      " [  0   0   0   0   0   0   0   0   0   0   0   0   3  18  18  18 126 136\n",
      "  175  26 166 255 247 127   0   0   0   0]\n",
      " [  0   0   0   0   0   0   0   0  30  36  94 154 170 253 253 253 253 253\n",
      "  225 172 253 242 195  64   0   0   0   0]\n",
      " [  0   0   0   0   0   0   0  49 238 253 253 253 253 253 253 253 253 251\n",
      "   93  82  82  56  39   0   0   0   0   0]\n",
      " [  0   0   0   0   0   0   0  18 219 253 253 253 253 253 198 182 247 241\n",
      "    0   0   0   0   0   0   0   0   0   0]\n",
      " [  0   0   0   0   0   0   0   0  80 156 107 253 253 205  11   0  43 154\n",
      "    0   0   0   0   0   0   0   0   0   0]\n",
      " [  0   0   0   0   0   0   0   0   0  14   1 154 253  90   0   0   0   0\n",
      "    0   0   0   0   0   0   0   0   0   0]\n",
      " [  0   0   0   0   0   0   0   0   0   0   0 139 253 190   2   0   0   0\n",
      "    0   0   0   0   0   0   0   0   0   0]\n",
      " [  0   0   0   0   0   0   0   0   0   0   0  11 190 253  70   0   0   0\n",
      "    0   0   0   0   0   0   0   0   0   0]\n",
      " [  0   0   0   0   0   0   0   0   0   0   0   0  35 241 225 160 108   1\n",
      "    0   0   0   0   0   0   0   0   0   0]\n",
      " [  0   0   0   0   0   0   0   0   0   0   0   0   0  81 240 253 253 119\n",
      "   25   0   0   0   0   0   0   0   0   0]\n",
      " [  0   0   0   0   0   0   0   0   0   0   0   0   0   0  45 186 253 253\n",
      "  150  27   0   0   0   0   0   0   0   0]\n",
      " [  0   0   0   0   0   0   0   0   0   0   0   0   0   0   0  16  93 252\n",
      "  253 187   0   0   0   0   0   0   0   0]\n",
      " [  0   0   0   0   0   0   0   0   0   0   0   0   0   0   0   0   0 249\n",
      "  253 249  64   0   0   0   0   0   0   0]\n",
      " [  0   0   0   0   0   0   0   0   0   0   0   0   0   0  46 130 183 253\n",
      "  253 207   2   0   0   0   0   0   0   0]\n",
      " [  0   0   0   0   0   0   0   0   0   0   0   0  39 148 229 253 253 253\n",
      "  250 182   0   0   0   0   0   0   0   0]\n",
      " [  0   0   0   0   0   0   0   0   0   0  24 114 221 253 253 253 253 201\n",
      "   78   0   0   0   0   0   0   0   0   0]\n",
      " [  0   0   0   0   0   0   0   0  23  66 213 253 253 253 253 198  81   2\n",
      "    0   0   0   0   0   0   0   0   0   0]\n",
      " [  0   0   0   0   0   0  18 171 219 253 253 253 253 195  80   9   0   0\n",
      "    0   0   0   0   0   0   0   0   0   0]\n",
      " [  0   0   0   0  55 172 226 253 253 253 253 244 133  11   0   0   0   0\n",
      "    0   0   0   0   0   0   0   0   0   0]\n",
      " [  0   0   0   0 136 253 253 253 212 135 132  16   0   0   0   0   0   0\n",
      "    0   0   0   0   0   0   0   0   0   0]\n",
      " [  0   0   0   0   0   0   0   0   0   0   0   0   0   0   0   0   0   0\n",
      "    0   0   0   0   0   0   0   0   0   0]\n",
      " [  0   0   0   0   0   0   0   0   0   0   0   0   0   0   0   0   0   0\n",
      "    0   0   0   0   0   0   0   0   0   0]\n",
      " [  0   0   0   0   0   0   0   0   0   0   0   0   0   0   0   0   0   0\n",
      "    0   0   0   0   0   0   0   0   0   0]]\n",
      "[[  0   0   0   0   0   0   0   0   0   0   0   0   0   0   0   0   0   0\n",
      "    0   0   0   0   0   0   0   0   0   0]\n",
      " [  0   0   0   0   0   0   0   0   0   0   0   0   0   0   0   0   0   0\n",
      "    0   0   0   0   0   0   0   0   0   0]\n",
      " [  0   0   0   0   0   0   0   0   0   0   0   0   0   0   0   0   0   0\n",
      "    0   0   0   0   0   0   0   0   0   0]\n",
      " [  0   0   0   0   0   0   0   0   0   0   0   0   0   0   0   0   0   0\n",
      "    0   0   0   0   0   0   0   0   0   0]\n",
      " [  0   0   0   0   0   0   0   0   0   0   0   0   0   0   0   0   0   0\n",
      "    0   0   0   0   0   0   0   0   0   0]\n",
      " [  0   0   0   0   0   0   0   0   0   0   0   0   0   0   0   0   0   0\n",
      "    0   0   0   0   0   0   0   0   0   0]\n",
      " [  0   0   0   0   0   0   0   0   0   0   0   0   0   0   0   0   0   0\n",
      "    0   0   0   0   0   0   0   0   0   0]\n",
      " [  0   0   0   0   0   0  84 185 159 151  60  36   0   0   0   0   0   0\n",
      "    0   0   0   0   0   0   0   0   0   0]\n",
      " [  0   0   0   0   0   0 222 254 254 254 254 241 198 198 198 198 198 198\n",
      "  198 198 170  52   0   0   0   0   0   0]\n",
      " [  0   0   0   0   0   0  67 114  72 114 163 227 254 225 254 254 254 250\n",
      "  229 254 254 140   0   0   0   0   0   0]\n",
      " [  0   0   0   0   0   0   0   0   0   0   0  17  66  14  67  67  67  59\n",
      "   21 236 254 106   0   0   0   0   0   0]\n",
      " [  0   0   0   0   0   0   0   0   0   0   0   0   0   0   0   0   0   0\n",
      "   83 253 209  18   0   0   0   0   0   0]\n",
      " [  0   0   0   0   0   0   0   0   0   0   0   0   0   0   0   0   0  22\n",
      "  233 255  83   0   0   0   0   0   0   0]\n",
      " [  0   0   0   0   0   0   0   0   0   0   0   0   0   0   0   0   0 129\n",
      "  254 238  44   0   0   0   0   0   0   0]\n",
      " [  0   0   0   0   0   0   0   0   0   0   0   0   0   0   0   0  59 249\n",
      "  254  62   0   0   0   0   0   0   0   0]\n",
      " [  0   0   0   0   0   0   0   0   0   0   0   0   0   0   0   0 133 254\n",
      "  187   5   0   0   0   0   0   0   0   0]\n",
      " [  0   0   0   0   0   0   0   0   0   0   0   0   0   0   0   9 205 248\n",
      "   58   0   0   0   0   0   0   0   0   0]\n",
      " [  0   0   0   0   0   0   0   0   0   0   0   0   0   0   0 126 254 182\n",
      "    0   0   0   0   0   0   0   0   0   0]\n",
      " [  0   0   0   0   0   0   0   0   0   0   0   0   0   0  75 251 240  57\n",
      "    0   0   0   0   0   0   0   0   0   0]\n",
      " [  0   0   0   0   0   0   0   0   0   0   0   0   0  19 221 254 166   0\n",
      "    0   0   0   0   0   0   0   0   0   0]\n",
      " [  0   0   0   0   0   0   0   0   0   0   0   0   3 203 254 219  35   0\n",
      "    0   0   0   0   0   0   0   0   0   0]\n",
      " [  0   0   0   0   0   0   0   0   0   0   0   0  38 254 254  77   0   0\n",
      "    0   0   0   0   0   0   0   0   0   0]\n",
      " [  0   0   0   0   0   0   0   0   0   0   0  31 224 254 115   1   0   0\n",
      "    0   0   0   0   0   0   0   0   0   0]\n",
      " [  0   0   0   0   0   0   0   0   0   0   0 133 254 254  52   0   0   0\n",
      "    0   0   0   0   0   0   0   0   0   0]\n",
      " [  0   0   0   0   0   0   0   0   0   0  61 242 254 254  52   0   0   0\n",
      "    0   0   0   0   0   0   0   0   0   0]\n",
      " [  0   0   0   0   0   0   0   0   0   0 121 254 254 219  40   0   0   0\n",
      "    0   0   0   0   0   0   0   0   0   0]\n",
      " [  0   0   0   0   0   0   0   0   0   0 121 254 207  18   0   0   0   0\n",
      "    0   0   0   0   0   0   0   0   0   0]\n",
      " [  0   0   0   0   0   0   0   0   0   0   0   0   0   0   0   0   0   0\n",
      "    0   0   0   0   0   0   0   0   0   0]]\n"
     ]
    }
   ],
   "source": [
    "print(x_train_image[0])\n",
    "print(x_test_image[0])"
   ]
  },
  {
   "cell_type": "markdown",
   "metadata": {},
   "source": [
    "4). **Standardization of image data**: The process of adjusting the \"average\" of a set of data to 0 and the \"standard deviation\" to 1 is called **standardization**. The simplest way to deal with gray scale images is to divide them by 255. Finally, the value of print's No.0 data is found to be between 0 and 1."
   ]
  },
  {
   "cell_type": "code",
   "execution_count": 27,
   "metadata": {},
   "outputs": [
    {
     "name": "stdout",
     "output_type": "stream",
     "text": [
      "[0.         0.         0.         0.         0.         0.\n",
      " 0.         0.         0.         0.         0.         0.\n",
      " 0.         0.         0.         0.         0.         0.\n",
      " 0.         0.         0.         0.         0.         0.\n",
      " 0.         0.         0.         0.         0.         0.\n",
      " 0.         0.         0.         0.         0.         0.\n",
      " 0.         0.         0.         0.         0.         0.\n",
      " 0.         0.         0.         0.         0.         0.\n",
      " 0.         0.         0.         0.         0.         0.\n",
      " 0.         0.         0.         0.         0.         0.\n",
      " 0.         0.         0.         0.         0.         0.\n",
      " 0.         0.         0.         0.         0.         0.\n",
      " 0.         0.         0.         0.         0.         0.\n",
      " 0.         0.         0.         0.         0.         0.\n",
      " 0.         0.         0.         0.         0.         0.\n",
      " 0.         0.         0.         0.         0.         0.\n",
      " 0.         0.         0.         0.         0.         0.\n",
      " 0.         0.         0.         0.         0.         0.\n",
      " 0.         0.         0.         0.         0.         0.\n",
      " 0.         0.         0.         0.         0.         0.\n",
      " 0.         0.         0.         0.         0.         0.\n",
      " 0.         0.         0.         0.         0.         0.\n",
      " 0.         0.         0.         0.         0.         0.\n",
      " 0.         0.         0.         0.         0.         0.\n",
      " 0.         0.         0.         0.         0.         0.\n",
      " 0.         0.         0.01176471 0.07058824 0.07058824 0.07058824\n",
      " 0.49411765 0.53333336 0.6862745  0.10196079 0.6509804  1.\n",
      " 0.96862745 0.49803922 0.         0.         0.         0.\n",
      " 0.         0.         0.         0.         0.         0.\n",
      " 0.         0.         0.11764706 0.14117648 0.36862746 0.6039216\n",
      " 0.6666667  0.99215686 0.99215686 0.99215686 0.99215686 0.99215686\n",
      " 0.88235295 0.6745098  0.99215686 0.9490196  0.7647059  0.2509804\n",
      " 0.         0.         0.         0.         0.         0.\n",
      " 0.         0.         0.         0.         0.         0.19215687\n",
      " 0.93333334 0.99215686 0.99215686 0.99215686 0.99215686 0.99215686\n",
      " 0.99215686 0.99215686 0.99215686 0.9843137  0.3647059  0.32156864\n",
      " 0.32156864 0.21960784 0.15294118 0.         0.         0.\n",
      " 0.         0.         0.         0.         0.         0.\n",
      " 0.         0.         0.         0.07058824 0.85882354 0.99215686\n",
      " 0.99215686 0.99215686 0.99215686 0.99215686 0.7764706  0.7137255\n",
      " 0.96862745 0.94509804 0.         0.         0.         0.\n",
      " 0.         0.         0.         0.         0.         0.\n",
      " 0.         0.         0.         0.         0.         0.\n",
      " 0.         0.         0.3137255  0.6117647  0.41960785 0.99215686\n",
      " 0.99215686 0.8039216  0.04313726 0.         0.16862746 0.6039216\n",
      " 0.         0.         0.         0.         0.         0.\n",
      " 0.         0.         0.         0.         0.         0.\n",
      " 0.         0.         0.         0.         0.         0.\n",
      " 0.         0.05490196 0.00392157 0.6039216  0.99215686 0.3529412\n",
      " 0.         0.         0.         0.         0.         0.\n",
      " 0.         0.         0.         0.         0.         0.\n",
      " 0.         0.         0.         0.         0.         0.\n",
      " 0.         0.         0.         0.         0.         0.\n",
      " 0.         0.54509807 0.99215686 0.74509805 0.00784314 0.\n",
      " 0.         0.         0.         0.         0.         0.\n",
      " 0.         0.         0.         0.         0.         0.\n",
      " 0.         0.         0.         0.         0.         0.\n",
      " 0.         0.         0.         0.         0.         0.04313726\n",
      " 0.74509805 0.99215686 0.27450982 0.         0.         0.\n",
      " 0.         0.         0.         0.         0.         0.\n",
      " 0.         0.         0.         0.         0.         0.\n",
      " 0.         0.         0.         0.         0.         0.\n",
      " 0.         0.         0.         0.         0.13725491 0.94509804\n",
      " 0.88235295 0.627451   0.42352942 0.00392157 0.         0.\n",
      " 0.         0.         0.         0.         0.         0.\n",
      " 0.         0.         0.         0.         0.         0.\n",
      " 0.         0.         0.         0.         0.         0.\n",
      " 0.         0.         0.         0.31764707 0.9411765  0.99215686\n",
      " 0.99215686 0.46666667 0.09803922 0.         0.         0.\n",
      " 0.         0.         0.         0.         0.         0.\n",
      " 0.         0.         0.         0.         0.         0.\n",
      " 0.         0.         0.         0.         0.         0.\n",
      " 0.         0.         0.1764706  0.7294118  0.99215686 0.99215686\n",
      " 0.5882353  0.10588235 0.         0.         0.         0.\n",
      " 0.         0.         0.         0.         0.         0.\n",
      " 0.         0.         0.         0.         0.         0.\n",
      " 0.         0.         0.         0.         0.         0.\n",
      " 0.         0.0627451  0.3647059  0.9882353  0.99215686 0.73333335\n",
      " 0.         0.         0.         0.         0.         0.\n",
      " 0.         0.         0.         0.         0.         0.\n",
      " 0.         0.         0.         0.         0.         0.\n",
      " 0.         0.         0.         0.         0.         0.\n",
      " 0.         0.9764706  0.99215686 0.9764706  0.2509804  0.\n",
      " 0.         0.         0.         0.         0.         0.\n",
      " 0.         0.         0.         0.         0.         0.\n",
      " 0.         0.         0.         0.         0.         0.\n",
      " 0.         0.         0.18039216 0.50980395 0.7176471  0.99215686\n",
      " 0.99215686 0.8117647  0.00784314 0.         0.         0.\n",
      " 0.         0.         0.         0.         0.         0.\n",
      " 0.         0.         0.         0.         0.         0.\n",
      " 0.         0.         0.         0.         0.15294118 0.5803922\n",
      " 0.8980392  0.99215686 0.99215686 0.99215686 0.98039216 0.7137255\n",
      " 0.         0.         0.         0.         0.         0.\n",
      " 0.         0.         0.         0.         0.         0.\n",
      " 0.         0.         0.         0.         0.         0.\n",
      " 0.09411765 0.44705883 0.8666667  0.99215686 0.99215686 0.99215686\n",
      " 0.99215686 0.7882353  0.30588236 0.         0.         0.\n",
      " 0.         0.         0.         0.         0.         0.\n",
      " 0.         0.         0.         0.         0.         0.\n",
      " 0.         0.         0.09019608 0.25882354 0.8352941  0.99215686\n",
      " 0.99215686 0.99215686 0.99215686 0.7764706  0.31764707 0.00784314\n",
      " 0.         0.         0.         0.         0.         0.\n",
      " 0.         0.         0.         0.         0.         0.\n",
      " 0.         0.         0.         0.         0.07058824 0.67058825\n",
      " 0.85882354 0.99215686 0.99215686 0.99215686 0.99215686 0.7647059\n",
      " 0.3137255  0.03529412 0.         0.         0.         0.\n",
      " 0.         0.         0.         0.         0.         0.\n",
      " 0.         0.         0.         0.         0.         0.\n",
      " 0.21568628 0.6745098  0.8862745  0.99215686 0.99215686 0.99215686\n",
      " 0.99215686 0.95686275 0.52156866 0.04313726 0.         0.\n",
      " 0.         0.         0.         0.         0.         0.\n",
      " 0.         0.         0.         0.         0.         0.\n",
      " 0.         0.         0.         0.         0.53333336 0.99215686\n",
      " 0.99215686 0.99215686 0.83137256 0.5294118  0.5176471  0.0627451\n",
      " 0.         0.         0.         0.         0.         0.\n",
      " 0.         0.         0.         0.         0.         0.\n",
      " 0.         0.         0.         0.         0.         0.\n",
      " 0.         0.         0.         0.         0.         0.\n",
      " 0.         0.         0.         0.         0.         0.\n",
      " 0.         0.         0.         0.         0.         0.\n",
      " 0.         0.         0.         0.         0.         0.\n",
      " 0.         0.         0.         0.         0.         0.\n",
      " 0.         0.         0.         0.         0.         0.\n",
      " 0.         0.         0.         0.         0.         0.\n",
      " 0.         0.         0.         0.         0.         0.\n",
      " 0.         0.         0.         0.         0.         0.\n",
      " 0.         0.         0.         0.         0.         0.\n",
      " 0.         0.         0.         0.         0.         0.\n",
      " 0.         0.         0.         0.         0.         0.\n",
      " 0.         0.         0.         0.         0.         0.\n",
      " 0.         0.         0.         0.        ]\n",
      "[0.         0.         0.         0.         0.         0.\n",
      " 0.         0.         0.         0.         0.         0.\n",
      " 0.         0.         0.         0.         0.         0.\n",
      " 0.         0.         0.         0.         0.         0.\n",
      " 0.         0.         0.         0.         0.         0.\n",
      " 0.         0.         0.         0.         0.         0.\n",
      " 0.         0.         0.         0.         0.         0.\n",
      " 0.         0.         0.         0.         0.         0.\n",
      " 0.         0.         0.         0.         0.         0.\n",
      " 0.         0.         0.         0.         0.         0.\n",
      " 0.         0.         0.         0.         0.         0.\n",
      " 0.         0.         0.         0.         0.         0.\n",
      " 0.         0.         0.         0.         0.         0.\n",
      " 0.         0.         0.         0.         0.         0.\n",
      " 0.         0.         0.         0.         0.         0.\n",
      " 0.         0.         0.         0.         0.         0.\n",
      " 0.         0.         0.         0.         0.         0.\n",
      " 0.         0.         0.         0.         0.         0.\n",
      " 0.         0.         0.         0.         0.         0.\n",
      " 0.         0.         0.         0.         0.         0.\n",
      " 0.         0.         0.         0.         0.         0.\n",
      " 0.         0.         0.         0.         0.         0.\n",
      " 0.         0.         0.         0.         0.         0.\n",
      " 0.         0.         0.         0.         0.         0.\n",
      " 0.         0.         0.         0.         0.         0.\n",
      " 0.         0.         0.         0.         0.         0.\n",
      " 0.         0.         0.         0.         0.         0.\n",
      " 0.         0.         0.         0.         0.         0.\n",
      " 0.         0.         0.         0.         0.         0.\n",
      " 0.         0.         0.         0.         0.         0.\n",
      " 0.         0.         0.         0.         0.         0.\n",
      " 0.         0.         0.         0.         0.         0.\n",
      " 0.         0.         0.         0.         0.         0.\n",
      " 0.         0.         0.         0.         0.32941177 0.7254902\n",
      " 0.62352943 0.5921569  0.23529412 0.14117648 0.         0.\n",
      " 0.         0.         0.         0.         0.         0.\n",
      " 0.         0.         0.         0.         0.         0.\n",
      " 0.         0.         0.         0.         0.         0.\n",
      " 0.         0.         0.87058824 0.99607843 0.99607843 0.99607843\n",
      " 0.99607843 0.94509804 0.7764706  0.7764706  0.7764706  0.7764706\n",
      " 0.7764706  0.7764706  0.7764706  0.7764706  0.6666667  0.20392157\n",
      " 0.         0.         0.         0.         0.         0.\n",
      " 0.         0.         0.         0.         0.         0.\n",
      " 0.2627451  0.44705883 0.28235295 0.44705883 0.6392157  0.8901961\n",
      " 0.99607843 0.88235295 0.99607843 0.99607843 0.99607843 0.98039216\n",
      " 0.8980392  0.99607843 0.99607843 0.54901963 0.         0.\n",
      " 0.         0.         0.         0.         0.         0.\n",
      " 0.         0.         0.         0.         0.         0.\n",
      " 0.         0.         0.         0.06666667 0.25882354 0.05490196\n",
      " 0.2627451  0.2627451  0.2627451  0.23137255 0.08235294 0.9254902\n",
      " 0.99607843 0.41568628 0.         0.         0.         0.\n",
      " 0.         0.         0.         0.         0.         0.\n",
      " 0.         0.         0.         0.         0.         0.\n",
      " 0.         0.         0.         0.         0.         0.\n",
      " 0.         0.         0.3254902  0.99215686 0.81960785 0.07058824\n",
      " 0.         0.         0.         0.         0.         0.\n",
      " 0.         0.         0.         0.         0.         0.\n",
      " 0.         0.         0.         0.         0.         0.\n",
      " 0.         0.         0.         0.         0.         0.08627451\n",
      " 0.9137255  1.         0.3254902  0.         0.         0.\n",
      " 0.         0.         0.         0.         0.         0.\n",
      " 0.         0.         0.         0.         0.         0.\n",
      " 0.         0.         0.         0.         0.         0.\n",
      " 0.         0.         0.         0.5058824  0.99607843 0.93333334\n",
      " 0.17254902 0.         0.         0.         0.         0.\n",
      " 0.         0.         0.         0.         0.         0.\n",
      " 0.         0.         0.         0.         0.         0.\n",
      " 0.         0.         0.         0.         0.         0.\n",
      " 0.23137255 0.9764706  0.99607843 0.24313726 0.         0.\n",
      " 0.         0.         0.         0.         0.         0.\n",
      " 0.         0.         0.         0.         0.         0.\n",
      " 0.         0.         0.         0.         0.         0.\n",
      " 0.         0.         0.         0.         0.52156866 0.99607843\n",
      " 0.73333335 0.01960784 0.         0.         0.         0.\n",
      " 0.         0.         0.         0.         0.         0.\n",
      " 0.         0.         0.         0.         0.         0.\n",
      " 0.         0.         0.         0.         0.         0.\n",
      " 0.         0.03529412 0.8039216  0.972549   0.22745098 0.\n",
      " 0.         0.         0.         0.         0.         0.\n",
      " 0.         0.         0.         0.         0.         0.\n",
      " 0.         0.         0.         0.         0.         0.\n",
      " 0.         0.         0.         0.         0.         0.49411765\n",
      " 0.99607843 0.7137255  0.         0.         0.         0.\n",
      " 0.         0.         0.         0.         0.         0.\n",
      " 0.         0.         0.         0.         0.         0.\n",
      " 0.         0.         0.         0.         0.         0.\n",
      " 0.         0.         0.29411766 0.9843137  0.9411765  0.22352941\n",
      " 0.         0.         0.         0.         0.         0.\n",
      " 0.         0.         0.         0.         0.         0.\n",
      " 0.         0.         0.         0.         0.         0.\n",
      " 0.         0.         0.         0.         0.         0.07450981\n",
      " 0.8666667  0.99607843 0.6509804  0.         0.         0.\n",
      " 0.         0.         0.         0.         0.         0.\n",
      " 0.         0.         0.         0.         0.         0.\n",
      " 0.         0.         0.         0.         0.         0.\n",
      " 0.         0.         0.01176471 0.79607844 0.99607843 0.85882354\n",
      " 0.13725491 0.         0.         0.         0.         0.\n",
      " 0.         0.         0.         0.         0.         0.\n",
      " 0.         0.         0.         0.         0.         0.\n",
      " 0.         0.         0.         0.         0.         0.\n",
      " 0.14901961 0.99607843 0.99607843 0.3019608  0.         0.\n",
      " 0.         0.         0.         0.         0.         0.\n",
      " 0.         0.         0.         0.         0.         0.\n",
      " 0.         0.         0.         0.         0.         0.\n",
      " 0.         0.         0.         0.12156863 0.8784314  0.99607843\n",
      " 0.4509804  0.00392157 0.         0.         0.         0.\n",
      " 0.         0.         0.         0.         0.         0.\n",
      " 0.         0.         0.         0.         0.         0.\n",
      " 0.         0.         0.         0.         0.         0.\n",
      " 0.         0.52156866 0.99607843 0.99607843 0.20392157 0.\n",
      " 0.         0.         0.         0.         0.         0.\n",
      " 0.         0.         0.         0.         0.         0.\n",
      " 0.         0.         0.         0.         0.         0.\n",
      " 0.         0.         0.         0.         0.23921569 0.9490196\n",
      " 0.99607843 0.99607843 0.20392157 0.         0.         0.\n",
      " 0.         0.         0.         0.         0.         0.\n",
      " 0.         0.         0.         0.         0.         0.\n",
      " 0.         0.         0.         0.         0.         0.\n",
      " 0.         0.         0.4745098  0.99607843 0.99607843 0.85882354\n",
      " 0.15686275 0.         0.         0.         0.         0.\n",
      " 0.         0.         0.         0.         0.         0.\n",
      " 0.         0.         0.         0.         0.         0.\n",
      " 0.         0.         0.         0.         0.         0.\n",
      " 0.4745098  0.99607843 0.8117647  0.07058824 0.         0.\n",
      " 0.         0.         0.         0.         0.         0.\n",
      " 0.         0.         0.         0.         0.         0.\n",
      " 0.         0.         0.         0.         0.         0.\n",
      " 0.         0.         0.         0.         0.         0.\n",
      " 0.         0.         0.         0.         0.         0.\n",
      " 0.         0.         0.         0.         0.         0.\n",
      " 0.         0.         0.         0.        ]\n"
     ]
    }
   ],
   "source": [
    "x_Train_normalize = x_Train/255\n",
    "x_Test_normalize = x_Test/255\n",
    "\n",
    "print(x_Train_normalize[0])\n",
    "print(x_Test_normalize[0])"
   ]
  },
  {
   "cell_type": "markdown",
   "metadata": {},
   "source": [
    "* **For labels:**\n",
    "\n",
    "Label's data content ranges from 0 to 9, so we can convert it into 10 combinations of 0 or 1, for example, 7 to 0000000100 and 5 to 00000010000. This method is called \"One-hot encoding\", and is mainly applied to the conversion of classification values.\n",
    "\n",
    "1. Let's first look at the first five label data in train dataset and find out that the values are 5, 0, 4, 1, 9 and the type is uint8."
   ]
  },
  {
   "cell_type": "code",
   "execution_count": 28,
   "metadata": {},
   "outputs": [
    {
     "data": {
      "text/plain": [
       "array([5, 0, 4, 1, 9], dtype=uint8)"
      ]
     },
     "execution_count": 28,
     "metadata": {},
     "output_type": "execute_result"
    }
   ],
   "source": [
    "y_train_label[:5]"
   ]
  },
  {
   "cell_type": "markdown",
   "metadata": {},
   "source": [
    "2. Then we use **np_utils.to_categorical()** to perform one-hot encoding transformation. The first five pieces of data from print show that 5 becomes 00000010000, 0 becomes 1000000000, 4 becomes 0000100000...."
   ]
  },
  {
   "cell_type": "code",
   "execution_count": 29,
   "metadata": {},
   "outputs": [
    {
     "data": {
      "text/plain": [
       "array([[0., 0., 0., 0., 0., 1., 0., 0., 0., 0.],\n",
       "       [1., 0., 0., 0., 0., 0., 0., 0., 0., 0.],\n",
       "       [0., 0., 0., 0., 1., 0., 0., 0., 0., 0.],\n",
       "       [0., 1., 0., 0., 0., 0., 0., 0., 0., 0.],\n",
       "       [0., 0., 0., 0., 0., 0., 0., 0., 0., 1.]], dtype=float32)"
      ]
     },
     "execution_count": 29,
     "metadata": {},
     "output_type": "execute_result"
    }
   ],
   "source": [
    "y_TrainOneHot = np_utils.to_categorical(y_train_label)\n",
    "y_TestOneHot = np_utils.to_categorical(y_test_label)\n",
    "\n",
    "y_TrainOneHot[:5]"
   ]
  },
  {
   "cell_type": "markdown",
   "metadata": {},
   "source": [
    "### Loss and accuracy history visulization\n",
    "\n",
    "Next, let us write a LossHistory class for the visulization of the Loss and Accuracy, **just for fun, no need to worry :)**, you can skip this section rapidly."
   ]
  },
  {
   "cell_type": "code",
   "execution_count": 30,
   "metadata": {},
   "outputs": [],
   "source": [
    "class LossHistory(keras.callbacks.Callback):\n",
    "    def on_train_begin(self, logs={}):\n",
    "        self.losses = {'batch':[], 'epoch':[]}\n",
    "        self.accuracy = {'batch':[], 'epoch':[]}\n",
    "        self.val_loss = {'batch':[], 'epoch':[]}\n",
    "        self.val_acc = {'batch':[], 'epoch':[]}\n",
    "\n",
    "    def on_batch_end(self, batch, logs={}):\n",
    "        self.losses['batch'].append(logs.get('loss'))\n",
    "        self.accuracy['batch'].append(logs.get('acc'))\n",
    "        self.val_loss['batch'].append(logs.get('val_loss'))\n",
    "        self.val_acc['batch'].append(logs.get('val_acc'))\n",
    "\n",
    "    def on_epoch_end(self, batch, logs={}):\n",
    "        self.losses['epoch'].append(logs.get('loss'))\n",
    "        self.accuracy['epoch'].append(logs.get('acc'))\n",
    "        self.val_loss['epoch'].append(logs.get('val_loss'))\n",
    "        self.val_acc['epoch'].append(logs.get('val_acc'))\n",
    "\n",
    "    def loss_plot(self, loss_type):\n",
    "        iters = range(len(self.losses[loss_type]))\n",
    "        plt.figure()\n",
    "        # acc\n",
    "        plt.plot(iters, self.accuracy[loss_type], 'r', label='train acc')\n",
    "        # loss\n",
    "        plt.plot(iters, self.losses[loss_type], 'g', label='train loss')\n",
    "        if loss_type == 'epoch':\n",
    "            # val_acc\n",
    "            plt.plot(iters, self.val_acc[loss_type], 'b', label='val acc')\n",
    "            # val_loss\n",
    "            plt.plot(iters, self.val_loss[loss_type], 'k', label='val loss')\n",
    "        plt.grid(True)\n",
    "        plt.xlabel(loss_type)\n",
    "        plt.ylabel('acc-loss')\n",
    "        plt.legend(loc=\"upper right\")\n",
    "        plt.show()\n"
   ]
  },
  {
   "cell_type": "markdown",
   "metadata": {},
   "source": [
    "### Get start with Model\n",
    "\n",
    "The core data structure of Keras is a **model**, a way to organize layers. The simplest type of model is the `Sequential` model, a linear stack of layers. For more complex architectures, you should use the Keras functional API, which allows to build arbitrary graphs of layers."
   ]
  },
  {
   "cell_type": "code",
   "execution_count": 31,
   "metadata": {},
   "outputs": [],
   "source": [
    "from keras.models import Sequential\n",
    "\n",
    "model = Sequential()"
   ]
  },
  {
   "cell_type": "markdown",
   "metadata": {},
   "source": [
    "Stacking layers is as easy as `.add()`:"
   ]
  },
  {
   "cell_type": "code",
   "execution_count": 32,
   "metadata": {},
   "outputs": [],
   "source": [
    "from keras.layers import Dense, Dropout, Activation\n",
    "\n",
    "# Stack the layers into model\n",
    "# 1st layer: Dense layer\n",
    "model.add(Dense(500,input_shape=(784,)))\n",
    "model.add(Activation('tanh'))\n",
    "model.add(Dropout(0.8))  # 50% dropout\n",
    "# 2nd layer: Dense layer\n",
    "model.add(Dense(500))\n",
    "model.add(Activation('tanh'))\n",
    "model.add(Dropout(0.8)) # 50% dropout\n",
    "# 3rd layer: Dense layer\n",
    "model.add(Dense(500))\n",
    "model.add(Activation('tanh'))\n",
    "model.add(Dropout(0.8)) # 50% dropout\n",
    "# Output layer: Dense layer with Dimension in 10 (one dimension for one category)\n",
    "# Softmax: Widely used in classification problem, output the probability of each category\n",
    "model.add(Dense(10))\n",
    "model.add(Activation('softmax'))\n"
   ]
  },
  {
   "cell_type": "markdown",
   "metadata": {},
   "source": [
    "Once your model looks good, configure its learning process with `.compile()`:"
   ]
  },
  {
   "cell_type": "code",
   "execution_count": 33,
   "metadata": {},
   "outputs": [],
   "source": [
    "# Define the loss function, optimizer (Method used in training, 'sgd' denotes stochastic gradient descent) and record the accuracy for each traning epoch\n",
    "model.compile(loss='categorical_crossentropy',\n",
    "              optimizer='sgd',\n",
    "              metrics=['accuracy'])"
   ]
  },
  {
   "cell_type": "markdown",
   "metadata": {},
   "source": [
    "If you need to, you can further configure your optimizer. A core principle of Keras is to make things reasonably simple, while allowing the user to be fully in control when they need to (the ultimate control being the easy extensibility of the source code)."
   ]
  },
  {
   "cell_type": "code",
   "execution_count": 34,
   "metadata": {},
   "outputs": [],
   "source": [
    "# Customize the model compile (For example, you want to customize the lr (aka learning rate))\n",
    "model.compile(loss=keras.losses.categorical_crossentropy,\n",
    "              optimizer=keras.optimizers.SGD(lr=0.01, momentum=0.9, nesterov=True),\n",
    "              metrics=['accuracy'])\n",
    "\n",
    "# Create a history instance of our little calss to record the callbacks information during training process\n",
    "history = LossHistory()"
   ]
  },
  {
   "cell_type": "markdown",
   "metadata": {},
   "source": [
    "You can now iterate on your training data in batches:"
   ]
  },
  {
   "cell_type": "code",
   "execution_count": 35,
   "metadata": {},
   "outputs": [
    {
     "name": "stdout",
     "output_type": "stream",
     "text": [
      "Train on 60000 samples, validate on 10000 samples\n",
      "Epoch 1/100\n",
      "60000/60000 [==============================] - 6s 95us/step - loss: 1.3601 - acc: 0.5627 - val_loss: 0.4752 - val_acc: 0.8681\n",
      "Epoch 2/100\n",
      "60000/60000 [==============================] - 5s 88us/step - loss: 0.7665 - acc: 0.7499 - val_loss: 0.4038 - val_acc: 0.8904\n",
      "Epoch 3/100\n",
      "60000/60000 [==============================] - 5s 85us/step - loss: 0.6652 - acc: 0.7891 - val_loss: 0.3721 - val_acc: 0.8994\n",
      "Epoch 4/100\n",
      "60000/60000 [==============================] - 5s 85us/step - loss: 0.6150 - acc: 0.8112 - val_loss: 0.3529 - val_acc: 0.9064\n",
      "Epoch 5/100\n",
      "60000/60000 [==============================] - 5s 92us/step - loss: 0.5768 - acc: 0.8234 - val_loss: 0.3460 - val_acc: 0.9086\n",
      "Epoch 6/100\n",
      "60000/60000 [==============================] - 5s 83us/step - loss: 0.5462 - acc: 0.8340 - val_loss: 0.3347 - val_acc: 0.9114\n",
      "Epoch 7/100\n",
      "60000/60000 [==============================] - 5s 83us/step - loss: 0.5287 - acc: 0.8421 - val_loss: 0.3255 - val_acc: 0.9120\n",
      "Epoch 8/100\n",
      "60000/60000 [==============================] - 5s 83us/step - loss: 0.5126 - acc: 0.8471 - val_loss: 0.3199 - val_acc: 0.9168\n",
      "Epoch 9/100\n",
      "60000/60000 [==============================] - 5s 83us/step - loss: 0.4961 - acc: 0.8524 - val_loss: 0.3121 - val_acc: 0.9180\n",
      "Epoch 10/100\n",
      "60000/60000 [==============================] - 5s 84us/step - loss: 0.4861 - acc: 0.8579 - val_loss: 0.3082 - val_acc: 0.9168\n",
      "Epoch 11/100\n",
      "60000/60000 [==============================] - 5s 83us/step - loss: 0.4783 - acc: 0.8598 - val_loss: 0.3022 - val_acc: 0.9185\n",
      "Epoch 12/100\n",
      "60000/60000 [==============================] - 5s 83us/step - loss: 0.4720 - acc: 0.8609 - val_loss: 0.2957 - val_acc: 0.9214\n",
      "Epoch 13/100\n",
      "60000/60000 [==============================] - 5s 83us/step - loss: 0.4619 - acc: 0.8648 - val_loss: 0.2993 - val_acc: 0.9204\n",
      "Epoch 14/100\n",
      "60000/60000 [==============================] - 5s 84us/step - loss: 0.4514 - acc: 0.8673 - val_loss: 0.3032 - val_acc: 0.9212\n",
      "Epoch 15/100\n",
      "60000/60000 [==============================] - 5s 84us/step - loss: 0.4447 - acc: 0.8699 - val_loss: 0.2921 - val_acc: 0.9224\n",
      "Epoch 16/100\n",
      "60000/60000 [==============================] - 5s 84us/step - loss: 0.4351 - acc: 0.8739 - val_loss: 0.2922 - val_acc: 0.9245\n",
      "Epoch 17/100\n",
      "60000/60000 [==============================] - 5s 85us/step - loss: 0.4363 - acc: 0.8738 - val_loss: 0.2887 - val_acc: 0.9238\n",
      "Epoch 18/100\n",
      "60000/60000 [==============================] - 5s 84us/step - loss: 0.4304 - acc: 0.8758 - val_loss: 0.2863 - val_acc: 0.9257\n",
      "Epoch 19/100\n",
      "60000/60000 [==============================] - 5s 86us/step - loss: 0.4170 - acc: 0.8789 - val_loss: 0.2866 - val_acc: 0.9261\n",
      "Epoch 20/100\n",
      "60000/60000 [==============================] - 5s 86us/step - loss: 0.4223 - acc: 0.8790 - val_loss: 0.2873 - val_acc: 0.9262\n",
      "Epoch 21/100\n",
      "60000/60000 [==============================] - 5s 87us/step - loss: 0.4122 - acc: 0.8809 - val_loss: 0.2821 - val_acc: 0.9265\n",
      "Epoch 22/100\n",
      "60000/60000 [==============================] - 6s 101us/step - loss: 0.4140 - acc: 0.8803 - val_loss: 0.2721 - val_acc: 0.9300\n",
      "Epoch 23/100\n",
      "60000/60000 [==============================] - 5s 86us/step - loss: 0.4002 - acc: 0.8863 - val_loss: 0.2832 - val_acc: 0.9271\n",
      "Epoch 24/100\n",
      "60000/60000 [==============================] - 5s 82us/step - loss: 0.4049 - acc: 0.8843 - val_loss: 0.2729 - val_acc: 0.9287\n",
      "Epoch 25/100\n",
      "60000/60000 [==============================] - 5s 84us/step - loss: 0.4026 - acc: 0.8830 - val_loss: 0.2720 - val_acc: 0.9288\n",
      "Epoch 26/100\n",
      "60000/60000 [==============================] - 5s 88us/step - loss: 0.3964 - acc: 0.8850 - val_loss: 0.2660 - val_acc: 0.9297\n",
      "Epoch 27/100\n",
      "60000/60000 [==============================] - 5s 84us/step - loss: 0.3927 - acc: 0.8871 - val_loss: 0.2737 - val_acc: 0.9288\n",
      "Epoch 28/100\n",
      "60000/60000 [==============================] - 6s 103us/step - loss: 0.3848 - acc: 0.8890 - val_loss: 0.2623 - val_acc: 0.9317\n",
      "Epoch 29/100\n",
      "60000/60000 [==============================] - 5s 86us/step - loss: 0.3894 - acc: 0.8888 - val_loss: 0.2655 - val_acc: 0.9304\n",
      "Epoch 30/100\n",
      "60000/60000 [==============================] - 5s 81us/step - loss: 0.3831 - acc: 0.8890 - val_loss: 0.2582 - val_acc: 0.9320\n",
      "Epoch 31/100\n",
      "60000/60000 [==============================] - 5s 81us/step - loss: 0.3849 - acc: 0.8886 - val_loss: 0.2523 - val_acc: 0.9333\n",
      "Epoch 32/100\n",
      "60000/60000 [==============================] - 5s 81us/step - loss: 0.3760 - acc: 0.8929 - val_loss: 0.2504 - val_acc: 0.9333\n",
      "Epoch 33/100\n",
      "60000/60000 [==============================] - 5s 83us/step - loss: 0.3745 - acc: 0.8917 - val_loss: 0.2593 - val_acc: 0.9333\n",
      "Epoch 34/100\n",
      "60000/60000 [==============================] - 5s 84us/step - loss: 0.3715 - acc: 0.8931 - val_loss: 0.2544 - val_acc: 0.9332\n",
      "Epoch 35/100\n",
      "60000/60000 [==============================] - 5s 82us/step - loss: 0.3700 - acc: 0.8939 - val_loss: 0.2525 - val_acc: 0.9342\n",
      "Epoch 36/100\n",
      "60000/60000 [==============================] - 5s 86us/step - loss: 0.3639 - acc: 0.8964 - val_loss: 0.2502 - val_acc: 0.9358\n",
      "Epoch 37/100\n",
      "60000/60000 [==============================] - 5s 86us/step - loss: 0.3661 - acc: 0.8956 - val_loss: 0.2455 - val_acc: 0.9350\n",
      "Epoch 38/100\n",
      "60000/60000 [==============================] - 5s 85us/step - loss: 0.3624 - acc: 0.8967 - val_loss: 0.2462 - val_acc: 0.9347\n",
      "Epoch 39/100\n",
      "60000/60000 [==============================] - 5s 84us/step - loss: 0.3596 - acc: 0.8978 - val_loss: 0.2497 - val_acc: 0.9362\n",
      "Epoch 40/100\n",
      "60000/60000 [==============================] - 5s 87us/step - loss: 0.3619 - acc: 0.8966 - val_loss: 0.2494 - val_acc: 0.9357\n",
      "Epoch 41/100\n",
      "60000/60000 [==============================] - 5s 84us/step - loss: 0.3581 - acc: 0.8973 - val_loss: 0.2408 - val_acc: 0.9366\n",
      "Epoch 42/100\n",
      "60000/60000 [==============================] - 5s 84us/step - loss: 0.3538 - acc: 0.8993 - val_loss: 0.2412 - val_acc: 0.9376\n",
      "Epoch 43/100\n",
      "60000/60000 [==============================] - 5s 85us/step - loss: 0.3559 - acc: 0.8989 - val_loss: 0.2382 - val_acc: 0.9378\n",
      "Epoch 44/100\n",
      "60000/60000 [==============================] - 5s 88us/step - loss: 0.3526 - acc: 0.8997 - val_loss: 0.2397 - val_acc: 0.9377\n",
      "Epoch 45/100\n",
      "60000/60000 [==============================] - 7s 117us/step - loss: 0.3501 - acc: 0.9002 - val_loss: 0.2323 - val_acc: 0.9390\n",
      "Epoch 46/100\n",
      "60000/60000 [==============================] - 6s 101us/step - loss: 0.3451 - acc: 0.9020 - val_loss: 0.2425 - val_acc: 0.9368\n",
      "Epoch 47/100\n",
      "60000/60000 [==============================] - 6s 98us/step - loss: 0.3450 - acc: 0.9027 - val_loss: 0.2308 - val_acc: 0.9382\n",
      "Epoch 48/100\n",
      "60000/60000 [==============================] - 7s 111us/step - loss: 0.3419 - acc: 0.9022 - val_loss: 0.2373 - val_acc: 0.9371\n",
      "Epoch 49/100\n",
      "60000/60000 [==============================] - 7s 116us/step - loss: 0.3419 - acc: 0.9034 - val_loss: 0.2299 - val_acc: 0.9384\n",
      "Epoch 50/100\n",
      "60000/60000 [==============================] - 7s 121us/step - loss: 0.3386 - acc: 0.9031 - val_loss: 0.2333 - val_acc: 0.9388\n",
      "Epoch 51/100\n",
      "60000/60000 [==============================] - 7s 114us/step - loss: 0.3370 - acc: 0.9047 - val_loss: 0.2312 - val_acc: 0.9390\n",
      "Epoch 52/100\n",
      "60000/60000 [==============================] - 7s 112us/step - loss: 0.3403 - acc: 0.9035 - val_loss: 0.2302 - val_acc: 0.9397\n",
      "Epoch 53/100\n",
      "60000/60000 [==============================] - 6s 105us/step - loss: 0.3352 - acc: 0.9039 - val_loss: 0.2279 - val_acc: 0.9389\n",
      "Epoch 54/100\n",
      "60000/60000 [==============================] - 5s 90us/step - loss: 0.3324 - acc: 0.9056 - val_loss: 0.2258 - val_acc: 0.9402\n",
      "Epoch 55/100\n",
      "60000/60000 [==============================] - 5s 88us/step - loss: 0.3331 - acc: 0.9062 - val_loss: 0.2254 - val_acc: 0.9404\n",
      "Epoch 56/100\n",
      "60000/60000 [==============================] - 6s 100us/step - loss: 0.3311 - acc: 0.9055 - val_loss: 0.2195 - val_acc: 0.9419\n",
      "Epoch 57/100\n",
      "60000/60000 [==============================] - 5s 89us/step - loss: 0.3265 - acc: 0.9072 - val_loss: 0.2297 - val_acc: 0.9403\n",
      "Epoch 58/100\n",
      "60000/60000 [==============================] - 5s 91us/step - loss: 0.3291 - acc: 0.9053 - val_loss: 0.2190 - val_acc: 0.9424\n",
      "Epoch 59/100\n",
      "60000/60000 [==============================] - 5s 90us/step - loss: 0.3293 - acc: 0.9073 - val_loss: 0.2201 - val_acc: 0.9414\n",
      "Epoch 60/100\n",
      "60000/60000 [==============================] - 5s 90us/step - loss: 0.3250 - acc: 0.9078 - val_loss: 0.2247 - val_acc: 0.9412\n",
      "Epoch 61/100\n",
      "60000/60000 [==============================] - 6s 94us/step - loss: 0.3217 - acc: 0.9086 - val_loss: 0.2188 - val_acc: 0.9423\n",
      "Epoch 62/100\n",
      "60000/60000 [==============================] - 6s 92us/step - loss: 0.3204 - acc: 0.9106 - val_loss: 0.2181 - val_acc: 0.9425\n",
      "Epoch 63/100\n",
      "60000/60000 [==============================] - 5s 90us/step - loss: 0.3199 - acc: 0.9092 - val_loss: 0.2184 - val_acc: 0.9422\n",
      "Epoch 64/100\n",
      "60000/60000 [==============================] - 6s 108us/step - loss: 0.3192 - acc: 0.9096 - val_loss: 0.2168 - val_acc: 0.9438\n",
      "Epoch 65/100\n",
      "60000/60000 [==============================] - 5s 91us/step - loss: 0.3179 - acc: 0.9109 - val_loss: 0.2168 - val_acc: 0.9439\n",
      "Epoch 66/100\n",
      "60000/60000 [==============================] - 5s 92us/step - loss: 0.3166 - acc: 0.9103 - val_loss: 0.2145 - val_acc: 0.9436\n",
      "Epoch 67/100\n",
      "60000/60000 [==============================] - 6s 102us/step - loss: 0.3149 - acc: 0.9095 - val_loss: 0.2182 - val_acc: 0.9436\n",
      "Epoch 68/100\n",
      "60000/60000 [==============================] - 6s 100us/step - loss: 0.3151 - acc: 0.9109 - val_loss: 0.2098 - val_acc: 0.9437\n",
      "Epoch 69/100\n",
      "60000/60000 [==============================] - 7s 122us/step - loss: 0.3143 - acc: 0.9118 - val_loss: 0.2137 - val_acc: 0.9447\n",
      "Epoch 70/100\n",
      "60000/60000 [==============================] - 6s 105us/step - loss: 0.3127 - acc: 0.9123 - val_loss: 0.2108 - val_acc: 0.9448\n",
      "Epoch 71/100\n",
      "60000/60000 [==============================] - 10s 158us/step - loss: 0.3112 - acc: 0.9122 - val_loss: 0.2109 - val_acc: 0.9444\n",
      "Epoch 72/100\n",
      "60000/60000 [==============================] - 5s 91us/step - loss: 0.3098 - acc: 0.9123 - val_loss: 0.2095 - val_acc: 0.9446\n",
      "Epoch 73/100\n",
      "60000/60000 [==============================] - 5s 88us/step - loss: 0.3073 - acc: 0.9133 - val_loss: 0.2113 - val_acc: 0.9436\n",
      "Epoch 74/100\n",
      "60000/60000 [==============================] - 6s 96us/step - loss: 0.3118 - acc: 0.9118 - val_loss: 0.2121 - val_acc: 0.9441\n",
      "Epoch 75/100\n",
      "60000/60000 [==============================] - 6s 106us/step - loss: 0.3104 - acc: 0.9126 - val_loss: 0.2140 - val_acc: 0.9452\n",
      "Epoch 76/100\n",
      "60000/60000 [==============================] - 6s 102us/step - loss: 0.3087 - acc: 0.9138 - val_loss: 0.2095 - val_acc: 0.9443\n",
      "Epoch 77/100\n",
      "60000/60000 [==============================] - 5s 89us/step - loss: 0.3042 - acc: 0.9143 - val_loss: 0.2047 - val_acc: 0.9461\n",
      "Epoch 78/100\n",
      "60000/60000 [==============================] - 7s 109us/step - loss: 0.3065 - acc: 0.9129 - val_loss: 0.2076 - val_acc: 0.9454\n",
      "Epoch 79/100\n",
      "60000/60000 [==============================] - 16s 273us/step - loss: 0.3065 - acc: 0.9136 - val_loss: 0.2015 - val_acc: 0.9464\n",
      "Epoch 80/100\n",
      "60000/60000 [==============================] - 11s 188us/step - loss: 0.3012 - acc: 0.9151 - val_loss: 0.2033 - val_acc: 0.9460\n",
      "Epoch 81/100\n",
      "60000/60000 [==============================] - 8s 138us/step - loss: 0.3044 - acc: 0.9150 - val_loss: 0.2020 - val_acc: 0.9471\n",
      "Epoch 82/100\n",
      "60000/60000 [==============================] - 9s 144us/step - loss: 0.2977 - acc: 0.9162 - val_loss: 0.2038 - val_acc: 0.9463\n",
      "Epoch 83/100\n",
      "60000/60000 [==============================] - 8s 139us/step - loss: 0.2987 - acc: 0.9163 - val_loss: 0.2030 - val_acc: 0.9476\n",
      "Epoch 84/100\n",
      "60000/60000 [==============================] - 8s 139us/step - loss: 0.3022 - acc: 0.9146 - val_loss: 0.2041 - val_acc: 0.9471\n",
      "Epoch 85/100\n",
      "60000/60000 [==============================] - 10s 172us/step - loss: 0.2980 - acc: 0.9155 - val_loss: 0.2004 - val_acc: 0.9472\n",
      "Epoch 86/100\n",
      "60000/60000 [==============================] - 7s 113us/step - loss: 0.2981 - acc: 0.9164 - val_loss: 0.2013 - val_acc: 0.9474\n",
      "Epoch 87/100\n",
      "60000/60000 [==============================] - 6s 97us/step - loss: 0.2932 - acc: 0.9162 - val_loss: 0.2008 - val_acc: 0.9467\n",
      "Epoch 88/100\n",
      "60000/60000 [==============================] - 6s 92us/step - loss: 0.2954 - acc: 0.9171 - val_loss: 0.1971 - val_acc: 0.9466\n",
      "Epoch 89/100\n",
      "60000/60000 [==============================] - 7s 118us/step - loss: 0.2944 - acc: 0.9163 - val_loss: 0.2004 - val_acc: 0.9478\n",
      "Epoch 90/100\n",
      "60000/60000 [==============================] - 7s 123us/step - loss: 0.2948 - acc: 0.9172 - val_loss: 0.1977 - val_acc: 0.9486\n",
      "Epoch 91/100\n",
      "60000/60000 [==============================] - 8s 125us/step - loss: 0.2908 - acc: 0.9190 - val_loss: 0.1963 - val_acc: 0.9484\n",
      "Epoch 92/100\n",
      "60000/60000 [==============================] - 8s 127us/step - loss: 0.2900 - acc: 0.9186 - val_loss: 0.1997 - val_acc: 0.9478\n",
      "Epoch 93/100\n",
      "60000/60000 [==============================] - 9s 150us/step - loss: 0.2886 - acc: 0.9193 - val_loss: 0.1983 - val_acc: 0.9487\n",
      "Epoch 94/100\n",
      "60000/60000 [==============================] - 8s 138us/step - loss: 0.2916 - acc: 0.9196 - val_loss: 0.1963 - val_acc: 0.9485\n",
      "Epoch 95/100\n",
      "60000/60000 [==============================] - 8s 138us/step - loss: 0.2894 - acc: 0.9188 - val_loss: 0.1937 - val_acc: 0.9488\n",
      "Epoch 96/100\n",
      "60000/60000 [==============================] - 8s 131us/step - loss: 0.2896 - acc: 0.9187 - val_loss: 0.1899 - val_acc: 0.9488\n",
      "Epoch 97/100\n",
      "60000/60000 [==============================] - 9s 142us/step - loss: 0.2864 - acc: 0.9189 - val_loss: 0.1896 - val_acc: 0.9499\n",
      "Epoch 98/100\n",
      "60000/60000 [==============================] - 8s 132us/step - loss: 0.2871 - acc: 0.9201 - val_loss: 0.1921 - val_acc: 0.9496\n",
      "Epoch 99/100\n",
      "60000/60000 [==============================] - 8s 135us/step - loss: 0.2870 - acc: 0.9192 - val_loss: 0.1973 - val_acc: 0.9496\n",
      "Epoch 100/100\n",
      "60000/60000 [==============================] - 14s 231us/step - loss: 0.2845 - acc: 0.9200 - val_loss: 0.1897 - val_acc: 0.9496\n"
     ]
    },
    {
     "data": {
      "image/png": "[encoded data removed]",
      "text/plain": [
       "<Figure size 432x288 with 1 Axes>"
      ]
     },
     "metadata": {
      "needs_background": "light"
     },
     "output_type": "display_data"
    }
   ],
   "source": [
    "# x_train and y_train are Numpy arrays --just like in the Scikit-Learn API.\n",
    "model.fit(x_Train_normalize, y_TrainOneHot, epochs=100, verbose=1, batch_size=200, shuffle=True, validation_data=(x_Test_normalize, y_TestOneHot), callbacks=[history])\n",
    "\n",
    "# Use the small funny class written by us before to plot the learning curve\n",
    "history.loss_plot('epoch')"
   ]
  },
  {
   "cell_type": "markdown",
   "metadata": {},
   "source": [
    "If you train the model with 100 epochs, the learning curve should be something like the following figure, and the accuracy in testing set should be 94.96% approximately.\n",
    "\n",
    "\n",
    "![100epoch](100epoch.png)"
   ]
  },
  {
   "cell_type": "markdown",
   "metadata": {},
   "source": [
    "Let's back to the model, subsequently, you can start the testing step and evaluate your model's performance:"
   ]
  },
  {
   "cell_type": "code",
   "execution_count": 36,
   "metadata": {},
   "outputs": [
    {
     "name": "stdout",
     "output_type": "stream",
     "text": [
      "10000/10000 [==============================] - 0s 33us/step\n",
      "The accuracy of the model in testing set is 0.949600\n"
     ]
    }
   ],
   "source": [
    "scores = model.evaluate(x_Test_normalize,y_TestOneHot,batch_size=200,verbose=1)\n",
    "\n",
    "# scores variable records two indicators of our model: scores[0] - loss; scores[1] - accuracy\n",
    "print(\"The accuracy of the model in testing set is %f\" % (scores[1]))"
   ]
  },
  {
   "cell_type": "markdown",
   "metadata": {},
   "source": [
    "## In the end\n",
    "\n",
    "Comparing with TensorFlow and other deep learning framework in python, the idea of Keras is that, building a question answering system, an image classification model, a Neural Turing Machine, or any other model is just as fast. The ideas behind deep learning are simple, so why should their implementation be painful?\n",
    "\n",
    "In the end, let's have a glance on the difference on TensorFlow and Keras, and you will know how nice Keras are.\n",
    "\n",
    "### Code in Adding a Layer\n",
    "\n",
    "![tf_vs_keras](tf_vs_keras.png)\n",
    "\n",
    "However, as a high-level encapusulated package, Keras usually could not provide a promising customization for your network architecture, which means you need a more flexible framework to do so. For example, tensorflow and pytorch."
   ]
  },
  {
   "cell_type": "markdown",
   "metadata": {},
   "source": [
    "## Reference\n",
    "\n",
    "[1] https://keras.io/\n",
    "\n",
    "[2] https://medium.com/@afozbek_/how-to-train-a-model-with-mnist-dataset-d79f8123ba84\n",
    "\n",
    "[3] https://blog.csdn.net/wwxy1995/article/details/79852905\n",
    "\n",
    "[4] https://blog.csdn.net/u013381011/article/details/78911848\n",
    "\n",
    "[5] https://qffc.org\n",
    "\n",
    "[6] https://www.researchgate.net/publication/335542449_Hybrid_Chaotic_Radial_Basis_Function_Neural_Oscillatory_Network_HCRBFNON_for_Financial_Forecast_and_Trading_System"
   ]
  },
  {
   "cell_type": "markdown",
   "metadata": {},
   "source": [
    "## Acknowledge\n",
    "\n",
    "The authors wants to thank for the help from the UIC Artificial Intelligence Special Interest Group (UICAISIG) in the environment configuration problem, and Prof. Yann LeCun for his magnificant work in the MNIST dataset. Specially, in the yesterday, Mr. Zheng Hao companied with us to finish this material, we also want to thank to him.\n"
   ]
  },
  {
   "cell_type": "markdown",
   "metadata": {},
   "source": [
    "![UICAI_Group_Logo.png](UICAI_Group_Logo.png)"
   ]
  }
 ],
 "metadata": {
  "kernelspec": {
   "display_name": "Python 3",
   "language": "python",
   "name": "python3"
  },
  "language_info": {
   "codemirror_mode": {
    "name": "ipython",
    "version": 3
   },
   "file_extension": ".py",
   "mimetype": "text/x-python",
   "name": "python",
   "nbconvert_exporter": "python",
   "pygments_lexer": "ipython3",
   "version": "3.7.0"
  }
 },
 "nbformat": 4,
 "nbformat_minor": 4
}
